{
 "cells": [
  {
   "cell_type": "code",
   "execution_count": 3,
   "metadata": {
    "collapsed": false,
    "jupyter": {
     "outputs_hidden": false
    },
    "pycharm": {
     "name": "#%%\n"
    }
   },
   "outputs": [],
   "source": [
    "from chatarena.environments.pettingzoo_tictacteo import PettingzooTicTacTeo\n",
    "from chatarena.arena import Arena"
   ]
  },
  {
   "cell_type": "code",
   "execution_count": 6,
   "metadata": {
    "collapsed": false,
    "jupyter": {
     "outputs_hidden": false
    },
    "pycharm": {
     "name": "#%%\n"
    }
   },
   "outputs": [],
   "source": [
    "arena = Arena.from_config(\"../examples/pettingzoo_tictacteo.json\")"
   ]
  },
  {
   "cell_type": "code",
   "execution_count": 8,
   "metadata": {
    "collapsed": false,
    "jupyter": {
     "outputs_hidden": false
    },
    "pycharm": {
     "name": "#%%\n"
    }
   },
   "outputs": [],
   "source": [
    "timestep = arena.reset()"
   ]
  },
  {
   "cell_type": "code",
   "execution_count": 10,
   "metadata": {
    "collapsed": false,
    "jupyter": {
     "outputs_hidden": false
    },
    "pycharm": {
     "name": "#%%\n"
    }
   },
   "outputs": [
    {
     "data": {
      "text/plain": [
       "TimeStep(observation=[Message(agent_name='Player 1', content='X: (2, 2)', turn=0, timestamp=1683644303807500787, visible_to='all', msg_type='text', logged=False), Message(agent_name='Moderator', content='\\n| _ | _ | _ |\\n| _ | X | _ |\\n| _ | _ | _ |\\n', turn=1, timestamp=1683644303807500787, visible_to='all', msg_type='text', logged=False)], reward=0, terminal=False)"
      ]
     },
     "execution_count": 10,
     "metadata": {},
     "output_type": "execute_result"
    }
   ],
   "source": [
    "arena.step()"
   ]
  },
  {
   "cell_type": "code",
   "execution_count": 11,
   "metadata": {
    "collapsed": false,
    "jupyter": {
     "outputs_hidden": false
    },
    "pycharm": {
     "name": "#%%\n"
    }
   },
   "outputs": [
    {
     "data": {
      "text/plain": [
       "TimeStep(observation=[Message(agent_name='Player 1', content='X: (2, 2)', turn=0, timestamp=1683644303807500787, visible_to='all', msg_type='text', logged=False), Message(agent_name='Moderator', content='\\n| _ | _ | _ |\\n| _ | X | _ |\\n| _ | _ | _ |\\n', turn=1, timestamp=1683644303807500787, visible_to='all', msg_type='text', logged=False), Message(agent_name='Player 2', content='O: (1, 1)', turn=1, timestamp=1683644303807500787, visible_to='all', msg_type='text', logged=False), Message(agent_name='Moderator', content='\\n| O | _ | _ |\\n| _ | X | _ |\\n| _ | _ | _ |\\n', turn=2, timestamp=1683644303807500787, visible_to='all', msg_type='text', logged=False)], reward=0, terminal=False)"
      ]
     },
     "execution_count": 11,
     "metadata": {},
     "output_type": "execute_result"
    }
   ],
   "source": [
    "arena.step()"
   ]
  },
  {
   "cell_type": "code",
   "execution_count": null,
   "metadata": {
    "collapsed": false,
    "jupyter": {
     "outputs_hidden": false
    },
    "pycharm": {
     "name": "#%%\n"
    }
   },
   "outputs": [],
   "source": []
  }
 ],
 "metadata": {
  "kernelspec": {
   "display_name": "Python 3 (ipykernel)",
   "language": "python",
   "name": "python3"
  },
  "language_info": {
   "codemirror_mode": {
    "name": "ipython",
    "version": 3
   },
   "file_extension": ".py",
   "mimetype": "text/x-python",
   "name": "python",
   "nbconvert_exporter": "python",
   "pygments_lexer": "ipython3",
   "version": "3.9.18"
  }
 },
 "nbformat": 4,
 "nbformat_minor": 4
}
