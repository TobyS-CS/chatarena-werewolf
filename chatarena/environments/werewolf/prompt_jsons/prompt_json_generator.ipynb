{
 "cells": [
  {
   "cell_type": "code",
   "execution_count": 37,
   "metadata": {},
   "outputs": [],
   "source": [
    "import json"
   ]
  },
  {
   "cell_type": "code",
   "execution_count": 38,
   "metadata": {},
   "outputs": [],
   "source": [
    "# Prompt + agent_name\n",
    "rules_prompt = \"\"\"You are playing a game called Werewolf with some other players. This game is based on text conversations. \n",
    "Here are the game rules: \n",
    "Roles: The moderator is also host, they organized this game and you need to answer their instructions correctly.\n",
    "Don't talk with the moderator. \n",
    "There are five roles in the game, werewolf, villager, seer, guard and witch. There are two alternate phases in this game, daytime and dark. When it's dark: Your talking content with moderator is confidential. You needn't worry about other players and moderator knowing what you say and do. No need to worry about suspicions from others during the night. \n",
    "If you are a werewolf, you can know what your teammates want to kill and you should vote one player to kill based on your analysis. The player who receives the most votes after all werewolves voting will be killed. No one will be killed if there is no consensus! \n",
    "If you are the witch, you have a bottle of antidote that can save a player targeted by werewolves after dark, and a bottle of poison that can poison a player after dark. Both poison and antidote can be used only once. \n",
    "If you are the seer, you can verify whether a player is a werewolf every night, which is a very important thing. \n",
    "If you are the guard, you can protect a player every night to prevent the player from being killed by werewolves, but guard cannot resist the witch's poison and guard cannot protect the same player on two consecutive nights. \n",
    "Villagers can't do anything at night. \n",
    "During the daytime: you discuss with all players including your enemies. At the end of the discussion, players vote to eliminate one player they suspect of being a werewolf. The player with the most votes will be eliminated. The moderator will tell who is killed, otherwise there is no one killed. \n",
    "Note that the villagers, seer, guard and witch are all on the villagers' side, as they have the same objective. \n",
    "Objectives: If you are werewolf, your goal is to cooperate with other werewolves to kill all players who are not werewolves at last. If you are not werewolf, you need to kill all werewolves with your partner once you find out that certain players are suspicious to be werewolves. This could greatly improve your chances of winning, although it is somewhat risky. If one player is killed, he can't do anything anymore and will be out of the game. \n",
    "Tips to complete the objective: During the night, you should analyze and use your ability correctly. During daytime, you need to reason carefully about the roles of other players and be careful not to reveal your own role casually unless you're cheating other players. Only give the player's name when making a decision/voting, and don't generate other players' conversation.\n",
    "Reason based on facts you have observed, and remember that you cannot perceive information other than text (e.g., speech, facial expressions, etc.). \n",
    "The players are: {players}. You are player: {player}. Do not pretend you are a different player or the moderator.\"\"\""
   ]
  },
  {
   "cell_type": "code",
   "execution_count": 39,
   "metadata": {},
   "outputs": [],
   "source": [
    "# #For this we require the game to fill in who is the werewolf who are living, valid players. \n",
    "# #Werewolfs + prompt\n",
    "# initial_werewolf_prompt = \"\"\"Werewolves, please open your eyes! I secretly tell you that {player1}, {player2} are the 2 werewolves! \n",
    "# Keep in mind that you are teammates. The rest of the players are not werewolves.\"\"\""
   ]
  },
  {
   "cell_type": "code",
   "execution_count": 40,
   "metadata": {},
   "outputs": [],
   "source": [
    "day_start_prompt = \"\"\"The sun rose. Everyone woke up except those who had been killed.\"\"\"\n",
    "day_discuss_prompt = \"\"\"Now freely talk about roles of other players with each other based on your observation and reflection with few sentences. \n",
    "You may also decide whether to reveal your identity based on your reflection.\"\"\"\n",
    "day_discuss_prompt_player = \"\"\"You are player: {player}. The other living players are: {other_players}.\n",
    "You may speak to the other living players, but do not pretend to be them or speak on their behalf.\n",
    "Do not speak to, pretend to be, or speak on behalf of the moderator or dead players.\"\"\""
   ]
  },
  {
   "cell_type": "code",
   "execution_count": 41,
   "metadata": {},
   "outputs": [],
   "source": [
    "#player name + prompt + [living players + pass]\n",
    "day_vote_prompt = \"\"\"{player}, you must now choose which of the players you vote to be killed, based on the discussion. \n",
    "Don't mention your role. For example: I vote to kill Player... You may only choose one from the following living options: {living_players}.\"\"\""
   ]
  },
  {
   "cell_type": "code",
   "execution_count": 42,
   "metadata": {},
   "outputs": [],
   "source": [
    "first_night_prompt = \"\"\"It's dark, everyone close your eyes. I will talk with you/your team secretly at night.\"\"\"\n",
    "# This is a slight diversion from Xu et.al because we have both a discussion and a voting phase at night. \n",
    "night_discuss_prompt_multi = \"\"\"{player1}, {player2} please open your eyes! You are the werewolves.\n",
    "Keep in mind that you are teammates. The rest of the players are not werewolves. You should not tell other players the identity of either werewolf.\n",
    "Please vote which of the players should be killed tonight. You must only choose one from the following living options: {living_players}.\n",
    "Discuss which player should be killed.\n",
    "\"\"\"\n",
    "night_discuss_prompt_single = \"\"\"{player}, please open your eyes! You are the remaining werewolf.\n",
    "Please vote which of the players should be killed tonight. You must only choose one from the following living options: {living_players}.\n",
    "Discuss to yourself which player should be killed.\n",
    "\"\"\""
   ]
  },
  {
   "cell_type": "code",
   "execution_count": 43,
   "metadata": {},
   "outputs": [],
   "source": [
    "#Prompts for votes to perform night actions. \n",
    "\n",
    "#Werewolf names + prompt + [living townsfolk + pass].\n",
    "# This is a slight diversion from Xu et.al because we have both a discussion and a voting phase at night. \n",
    "night_vote_prompt_werewolf = \"\"\"Now please vote for the player to be killed tonight, on the basis of the discussion you have had with each other. Remember that you must only choose one from the following living options: {living_players}.\"\"\"\n",
    "#Guard name + prompt + [living players + pass].\n",
    "night_vote_prompt_guard = \"\"\"You guard, please open your eyes! Now tell me who you protect tonight? You only\n",
    "choose one from the following living options please: \"\"\"\n",
    "#Witch name + prompt + [living players + pass - witch name].\n",
    "night_vote_prompt_witch = \"\"\" You witch, please open your eyes! You have a bottle of poison, who are you going to kill\n",
    "tonight? Choose one from the following living options: \"\"\"\n",
    "#Seer name + prompt + [living players + pass - Seer name].\n",
    "night_vote_prompt_seer = \"\"\" You seer, please open your eyes! Who are you going to verify its identity tonight?\n",
    "Choose only one from the following living options: \"\"\""
   ]
  },
  {
   "cell_type": "code",
   "execution_count": 44,
   "metadata": {},
   "outputs": [],
   "source": [
    "werewolf_prompt = \"You are werewolf!\"\n",
    "townsfolk_prompt = \"You are villager!\"\n",
    "seer_prompt = \"You are seer!\"\n",
    "guard_prompt = \"You are guard!\"\n",
    "witch_prompt = \"You are witch!\"\n",
    "#One game mode had an additional hunter roll not in Xu et.al\n",
    "hunter_prompt = \"You are villager!\""
   ]
  },
  {
   "cell_type": "code",
   "execution_count": 45,
   "metadata": {},
   "outputs": [],
   "source": [
    "#player name + prompt\n",
    "seer_werewolf_prompt =  \"{player} is a werewolf!\"\n",
    "seer_townsfolk_prompt = \"{player} is a villager!\"\n",
    "seer_seer_prompt = \"{player} is a seer!\"\n",
    "seer_guard_prompt = \"{player} is a guard!\"\n",
    "seer_witch_prompt = \"{player} is a witch!\"\n",
    "seer_hunter_prompt = \"{player} is a villager!\""
   ]
  },
  {
   "cell_type": "code",
   "execution_count": 46,
   "metadata": {},
   "outputs": [],
   "source": [
    "#List of dead + prompt\n",
    "who_died = \"{player} died last night!\"\n",
    "voted_out = \"{player} died by vote!\"\n",
    "nobody_died = \"It was a peaceful night and no one died!\""
   ]
  },
  {
   "cell_type": "code",
   "execution_count": 47,
   "metadata": {},
   "outputs": [],
   "source": [
    "#Now to make the Json itself. \n",
    "dict_for_json = {\n",
    "    \"rules_prompt\":rules_prompt,\n",
    "    # \"initial_werewolf_prompt\":initial_werewolf_prompt,\n",
    "    \"day_start_prompt\":day_start_prompt,\n",
    "    \"day_discuss_prompt\":day_discuss_prompt,\n",
    "    \"day_discuss_prompt_player\":day_discuss_prompt_player,\n",
    "    \"day_vote_prompt\":day_vote_prompt,\n",
    "    \"first_night_prompt\":first_night_prompt,\n",
    "    \"night_discuss_prompt_single\":night_discuss_prompt_single,\n",
    "    \"night_discuss_prompt_multi\":night_discuss_prompt_multi,\n",
    "    \"night_vote_prompt_werewolf\":night_vote_prompt_werewolf,\n",
    "    \"night_vote_prompt_guard\":night_vote_prompt_guard,\n",
    "    \"night_vote_prompt_witch\":night_vote_prompt_witch,\n",
    "    \"night_vote_prompt_seer\":night_vote_prompt_seer,\n",
    "    \"werewolf_prompt\":werewolf_prompt,\n",
    "    \"townsfolk_prompt\":townsfolk_prompt,\n",
    "    \"seer_prompt\":seer_prompt,\n",
    "    \"guard_prompt\":guard_prompt,\n",
    "    \"witch_prompt\":witch_prompt,\n",
    "    \"hunter_prompt\":hunter_prompt,\n",
    "    \"seer_werewolf_prompt\":seer_werewolf_prompt,\n",
    "    \"seer_townsfolk_prompt\":seer_townsfolk_prompt,\n",
    "    \"seer_seer_prompt\":seer_seer_prompt,\n",
    "    \"seer_guard_prompt\":seer_guard_prompt,\n",
    "    \"seer_witch_prompt\":seer_witch_prompt,\n",
    "    \"seer_hunter_prompt\":seer_hunter_prompt,\n",
    "    \"who_died\":who_died,\n",
    "    \"voted_out\":voted_out,\n",
    "    \"nobody_died\":nobody_died\n",
    "}"
   ]
  },
  {
   "cell_type": "code",
   "execution_count": 48,
   "metadata": {},
   "outputs": [],
   "source": [
    "for k, v in dict_for_json.items():\n",
    "    dict_for_json[k] = v.replace('\\n', ' ').replace('  ', ' ')\n",
    "    \n",
    "with open(\"new_prompt.json\", \"w\") as outfile: \n",
    "    json.dump(dict_for_json, outfile)"
   ]
  }
 ],
 "metadata": {
  "kernelspec": {
   "display_name": "Python 3 (ipykernel)",
   "language": "python",
   "name": "python3"
  },
  "language_info": {
   "codemirror_mode": {
    "name": "ipython",
    "version": 3
   },
   "file_extension": ".py",
   "mimetype": "text/x-python",
   "name": "python",
   "nbconvert_exporter": "python",
   "pygments_lexer": "ipython3",
   "version": "3.9.1"
  }
 },
 "nbformat": 4,
 "nbformat_minor": 4
}
